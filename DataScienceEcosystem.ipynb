{
 "cells": [
  {
   "cell_type": "markdown",
   "id": "c954d434",
   "metadata": {},
   "source": [
    "# Data Science Tools and Ecosystem"
   ]
  },
  {
   "cell_type": "markdown",
   "id": "84cd8dcd",
   "metadata": {},
   "source": [
    "In this notebook, Data Science Tools and Ecosystem are summarized."
   ]
  },
  {
   "attachments": {},
   "cell_type": "markdown",
   "id": "e6f80ab1",
   "metadata": {},
   "source": [
    "***Some of the popular languages that Data Scientists use are:***\n",
    "- python\n",
    "- R\n",
    "- SQL\n"
   ]
  },
  {
   "cell_type": "markdown",
   "id": "712c5a76",
   "metadata": {},
   "source": [
    "***Some of the commonly used libraries used by Data Scientists include:***\n",
    "\n",
    "- NumPy  \n",
    "- Pandas   \n",
    "- Matplotlib\n",
    "- Scikit-learn  \n",
    "- TensorFlow \n"
   ]
  },
  {
   "cell_type": "markdown",
   "id": "1c40c41d",
   "metadata": {},
   "source": [
    "\n",
    "| **Data Science Tools** |\n",
    "|-------------------------|\n",
    "| Jupyter Notebook        |\n",
    "| RStudio                |\n",
    "| Apache Spark            |\n",
    "\n"
   ]
  },
  {
   "cell_type": "markdown",
   "id": "f095ba28",
   "metadata": {},
   "source": [
    "### Below are a few examples of evaluating arithmetic expressions in Python.\n"
   ]
  },
  {
   "cell_type": "code",
   "execution_count": 2,
   "id": "2cc27798",
   "metadata": {},
   "outputs": [
    {
     "data": {
      "text/plain": [
       "17"
      ]
     },
     "execution_count": 2,
     "metadata": {},
     "output_type": "execute_result"
    }
   ],
   "source": [
    "# This is a simple arithmetic expression to multiply then add integers.\n",
    "result = (3 * 4) + 5\n",
    "result\n"
   ]
  },
  {
   "cell_type": "code",
   "execution_count": 3,
   "id": "aead2990",
   "metadata": {},
   "outputs": [
    {
     "data": {
      "text/plain": [
       "3.3333333333333335"
      ]
     },
     "execution_count": 3,
     "metadata": {},
     "output_type": "execute_result"
    }
   ],
   "source": [
    "# This will convert 200 minutes to hours by dividing by 60.\n",
    "hours = 200 / 60\n",
    "hours\n"
   ]
  },
  {
   "cell_type": "markdown",
   "id": "7a66bdb2",
   "metadata": {},
   "source": [
    "**Objectives:**\n",
    "\n",
    "- List popular languages for Data Science  \n",
    "- Identify commonly used Data Science libraries  \n",
    "- Understand key Data Science tools  \n",
    "- Perform arithmetic operations in Python  \n",
    "- Create and format Markdown cells in Jupyter Notebook  \n"
   ]
  },
  {
   "cell_type": "markdown",
   "id": "af89b3e0",
   "metadata": {},
   "source": [
    "## Author  \n",
    "Amir Raoufi  \n"
   ]
  },
  {
   "cell_type": "code",
   "execution_count": null,
   "id": "4a3ea30e",
   "metadata": {},
   "outputs": [],
   "source": []
  }
 ],
 "metadata": {
  "kernelspec": {
   "display_name": "Python 3 (ipykernel)",
   "language": "python",
   "name": "python3"
  },
  "language_info": {
   "codemirror_mode": {
    "name": "ipython",
    "version": 3
   },
   "file_extension": ".py",
   "mimetype": "text/x-python",
   "name": "python",
   "nbconvert_exporter": "python",
   "pygments_lexer": "ipython3",
   "version": "3.11.4"
  }
 },
 "nbformat": 4,
 "nbformat_minor": 5
}
